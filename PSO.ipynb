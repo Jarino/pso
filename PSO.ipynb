{
 "cells": [
  {
   "cell_type": "code",
   "execution_count": 1,
   "metadata": {
    "collapsed": false
   },
   "outputs": [],
   "source": [
    "import numpy as np\n",
    "import inspect\n",
    "\n",
    "from matplotlib import pyplot as plt\n",
    "\n",
    "%matplotlib inline"
   ]
  },
  {
   "cell_type": "markdown",
   "metadata": {},
   "source": [
    "Funkcia ktorá vypočíta hodnotu fitness pre každú časticu v populácií:"
   ]
  },
  {
   "cell_type": "code",
   "execution_count": 2,
   "metadata": {
    "collapsed": true
   },
   "outputs": [],
   "source": [
    "def get_fitnesses():\n",
    "    for index, row in enumerate(solutions):\n",
    "        bound_arguments = cost_function_signature.bind(*row.tolist()[0])\n",
    "        yield cost_function(*bound_arguments.args)"
   ]
  },
  {
   "cell_type": "markdown",
   "metadata": {},
   "source": [
    "Pomocná funkcia, ktorá vráti náhodné číslo z normálneho rozdelenia:"
   ]
  },
  {
   "cell_type": "code",
   "execution_count": 3,
   "metadata": {
    "collapsed": true
   },
   "outputs": [],
   "source": [
    "def rand():\n",
    "    return np.random.rand()"
   ]
  },
  {
   "cell_type": "markdown",
   "metadata": {},
   "source": [
    "Toto je rovnica pomocou ktorej sa vygeneruje nová generácia (nové pozície roju častíc):"
   ]
  },
  {
   "cell_type": "code",
   "execution_count": 4,
   "metadata": {
    "collapsed": true
   },
   "outputs": [],
   "source": [
    "def move_particles():\n",
    "    return solutions + 2*rand()*(pbest-solutions) + 2*rand()*(gbest-solutions)"
   ]
  },
  {
   "cell_type": "markdown",
   "metadata": {},
   "source": [
    "Zadefinujeme základné vstupy:\n",
    "* stratovú funkciu\n",
    "* veľkosť populácie"
   ]
  },
  {
   "cell_type": "code",
   "execution_count": 5,
   "metadata": {
    "collapsed": true
   },
   "outputs": [],
   "source": [
    "def cost_function(x, y):\n",
    "    return x**2 + y**2"
   ]
  },
  {
   "cell_type": "markdown",
   "metadata": {},
   "source": [
    "Zadefinujeme základné **parametre** algoritmu:"
   ]
  },
  {
   "cell_type": "code",
   "execution_count": 6,
   "metadata": {
    "collapsed": true
   },
   "outputs": [],
   "source": [
    "population_size = 10"
   ]
  },
  {
   "cell_type": "markdown",
   "metadata": {},
   "source": [
    "Nasleduje inicializácia algoritmu:\n",
    "- zistíme koľko máme premenných a vytvoríme prvé iniciálne riešenie,\n",
    "- prvotným náhodným riešeniam priradíme fitness,\n",
    "- vytvoríme maticu, ktorá bude uchovávať najlepšie pozície jedincov (pbest), vektor s najlepšou globálnou pozíciou (gbest) a fitness najlepšej globálnej pozície."
   ]
  },
  {
   "cell_type": "code",
   "execution_count": 7,
   "metadata": {
    "collapsed": false
   },
   "outputs": [],
   "source": [
    "cost_function_signature = inspect.signature(cost_function)\n",
    "variables_count = len(cost_function_signature.parameters)\n",
    "solutions = np.matrix(np.random.randint(0, high=100,size=(population_size,variables_count)))"
   ]
  },
  {
   "cell_type": "code",
   "execution_count": 8,
   "metadata": {
    "collapsed": false
   },
   "outputs": [],
   "source": [
    "fitnesses = np.zeros(population_size)\n",
    "\n",
    "for index, row in enumerate(solutions):\n",
    "    bound_arguments = cost_function_signature.bind(*row.tolist()[0])\n",
    "    fitnesses[index] = cost_function(*bound_arguments.args)\n",
    "    \n",
    "fitnesses = np.matrix(fitnesses).reshape(population_size, 1)"
   ]
  },
  {
   "cell_type": "code",
   "execution_count": 9,
   "metadata": {
    "collapsed": true
   },
   "outputs": [],
   "source": [
    "pbest = solutions.copy()\n",
    "gbest = solutions[fitnesses.argmax()]\n",
    "\n",
    "bound_arguments = cost_function_signature.bind(*gbest.tolist()[0])\n",
    "gbest_fitness = cost_function(*bound_arguments.args)"
   ]
  },
  {
   "cell_type": "code",
   "execution_count": 10,
   "metadata": {
    "collapsed": true
   },
   "outputs": [],
   "source": [
    "gbest_history = []"
   ]
  },
  {
   "cell_type": "markdown",
   "metadata": {},
   "source": [
    "Hlavný beh algoritmu, zatiaľ neurčená podmienka ukončenia:"
   ]
  },
  {
   "cell_type": "code",
   "execution_count": 11,
   "metadata": {
    "collapsed": false
   },
   "outputs": [],
   "source": [
    "for i in  range(1, 100):\n",
    "    # presunieme castice a vypocitame ich novy fitness\n",
    "    solutions = move_particles()\n",
    "    new_fitnesses = np.matrix(list(get_fitnesses())).reshape(population_size,1)\n",
    "    \n",
    "    # ulozime si zlepsene pozicie\n",
    "    mask = new_fitnesses < fitnesses\n",
    "    np.copyto(pbest, solutions, casting='unsafe',where=mask)\n",
    "    \n",
    "    # ak sa zlepsil gbest, aktualizujeme\n",
    "    if (new_fitnesses.min() < gbest_fitness):\n",
    "        gbest = solutions[new_fitnesses.argmin()]\n",
    "        gbest_fitness = new_fitnesses.min()\n",
    "        \n",
    "    gbest_history.append(gbest_fitness)\n",
    "    np.copyto(fitnesses, new_fitnesses)\n",
    "    "
   ]
  },
  {
   "cell_type": "code",
   "execution_count": 12,
   "metadata": {
    "collapsed": false
   },
   "outputs": [
    {
     "data": {
      "text/plain": [
       "[<matplotlib.lines.Line2D at 0x28a0c410f98>]"
      ]
     },
     "execution_count": 12,
     "metadata": {},
     "output_type": "execute_result"
    },
    {
     "data": {
      "image/png": "[encoded data removed]",
      "text/plain": [
       "<matplotlib.figure.Figure at 0x28a0c05c390>"
      ]
     },
     "metadata": {},
     "output_type": "display_data"
    }
   ],
   "source": [
    "plt.plot(gbest_history)"
   ]
  },
  {
   "cell_type": "code",
   "execution_count": null,
   "metadata": {
    "collapsed": true
   },
   "outputs": [],
   "source": []
  }
 ],
 "metadata": {
  "anaconda-cloud": {},
  "kernelspec": {
   "display_name": "Python [conda root]",
   "language": "python",
   "name": "conda-root-py"
  },
  "language_info": {
   "codemirror_mode": {
    "name": "ipython",
    "version": 3
   },
   "file_extension": ".py",
   "mimetype": "text/x-python",
   "name": "python",
   "nbconvert_exporter": "python",
   "pygments_lexer": "ipython3",
   "version": "3.5.2"
  }
 },
 "nbformat": 4,
 "nbformat_minor": 1
}
